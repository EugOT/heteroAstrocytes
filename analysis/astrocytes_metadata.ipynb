version https://git-lfs.github.com/spec/v1
oid sha256:0b7e9d8029d150ad1c0cdbaf481723bab43dfcd04db18cfd24c093258c0e9c36
size 52600
