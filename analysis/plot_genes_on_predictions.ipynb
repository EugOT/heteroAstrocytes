version https://git-lfs.github.com/spec/v1
oid sha256:acc43bccec72625fd5bd3b1df85f4fe9a7bc1a825aced2426cc990b1f9821cf4
size 605339448
